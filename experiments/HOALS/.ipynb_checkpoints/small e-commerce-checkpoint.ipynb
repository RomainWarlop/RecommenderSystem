{
 "cells": [
  {
   "cell_type": "markdown",
   "metadata": {},
   "source": [
    "# Experience of paper *Parallel Higher Order Alternating Least Square paper*\n",
    "\n",
    "Small e-commerce dataset\n",
    "\n",
    "Model code has been updated since the paper publication which can explain differences"
   ]
  },
  {
   "cell_type": "code",
   "execution_count": 1,
   "metadata": {},
   "outputs": [],
   "source": [
    "from RecommenderSystem.HOALS import HOALS\n",
    "from RecommenderSystem.metrics import rank_measure\n",
    "from sktensor.dtensor import dtensor\n",
    "from sktensor.tucker import hosvd # baseline\n",
    "import numpy as np\n",
    "import pandas as pd"
   ]
  },
  {
   "cell_type": "code",
   "execution_count": 2,
   "metadata": {},
   "outputs": [
    {
     "data": {
      "text/html": [
       "<div>\n",
       "<style scoped>\n",
       "    .dataframe tbody tr th:only-of-type {\n",
       "        vertical-align: middle;\n",
       "    }\n",
       "\n",
       "    .dataframe tbody tr th {\n",
       "        vertical-align: top;\n",
       "    }\n",
       "\n",
       "    .dataframe thead th {\n",
       "        text-align: right;\n",
       "    }\n",
       "</style>\n",
       "<table border=\"1\" class=\"dataframe\">\n",
       "  <thead>\n",
       "    <tr style=\"text-align: right;\">\n",
       "      <th></th>\n",
       "      <th>fullVisitorId</th>\n",
       "      <th>codssfamille</th>\n",
       "      <th>nPPview</th>\n",
       "      <th>nATC</th>\n",
       "      <th>nConv</th>\n",
       "    </tr>\n",
       "  </thead>\n",
       "  <tbody>\n",
       "    <tr>\n",
       "      <th>0</th>\n",
       "      <td>7926108618558685613</td>\n",
       "      <td>121114</td>\n",
       "      <td>2</td>\n",
       "      <td>0</td>\n",
       "      <td>0</td>\n",
       "    </tr>\n",
       "    <tr>\n",
       "      <th>1</th>\n",
       "      <td>8994729742035347686</td>\n",
       "      <td>131311</td>\n",
       "      <td>2</td>\n",
       "      <td>0</td>\n",
       "      <td>0</td>\n",
       "    </tr>\n",
       "    <tr>\n",
       "      <th>2</th>\n",
       "      <td>3751682749408060125</td>\n",
       "      <td>124211</td>\n",
       "      <td>2</td>\n",
       "      <td>0</td>\n",
       "      <td>0</td>\n",
       "    </tr>\n",
       "    <tr>\n",
       "      <th>3</th>\n",
       "      <td>4070221717608550090</td>\n",
       "      <td>242111</td>\n",
       "      <td>7</td>\n",
       "      <td>2</td>\n",
       "      <td>1</td>\n",
       "    </tr>\n",
       "    <tr>\n",
       "      <th>4</th>\n",
       "      <td>1924054936669126100</td>\n",
       "      <td>246214</td>\n",
       "      <td>1</td>\n",
       "      <td>1</td>\n",
       "      <td>0</td>\n",
       "    </tr>\n",
       "  </tbody>\n",
       "</table>\n",
       "</div>"
      ],
      "text/plain": [
       "         fullVisitorId  codssfamille  nPPview  nATC  nConv\n",
       "0  7926108618558685613        121114        2     0      0\n",
       "1  8994729742035347686        131311        2     0      0\n",
       "2  3751682749408060125        124211        2     0      0\n",
       "3  4070221717608550090        242111        7     2      1\n",
       "4  1924054936669126100        246214        1     1      0"
      ]
     },
     "execution_count": 2,
     "metadata": {},
     "output_type": "execute_result"
    }
   ],
   "source": [
    "data = pd.read_csv('../../data/smallEcommerce.csv',sep=\";\")\n",
    "data.head()"
   ]
  },
  {
   "cell_type": "code",
   "execution_count": 3,
   "metadata": {},
   "outputs": [
    {
     "data": {
      "text/html": [
       "<div>\n",
       "<style scoped>\n",
       "    .dataframe tbody tr th:only-of-type {\n",
       "        vertical-align: middle;\n",
       "    }\n",
       "\n",
       "    .dataframe tbody tr th {\n",
       "        vertical-align: top;\n",
       "    }\n",
       "\n",
       "    .dataframe thead th {\n",
       "        text-align: right;\n",
       "    }\n",
       "</style>\n",
       "<table border=\"1\" class=\"dataframe\">\n",
       "  <thead>\n",
       "    <tr style=\"text-align: right;\">\n",
       "      <th></th>\n",
       "      <th>nPPview</th>\n",
       "      <th>nATC</th>\n",
       "      <th>nConv</th>\n",
       "      <th>user</th>\n",
       "      <th>item</th>\n",
       "    </tr>\n",
       "  </thead>\n",
       "  <tbody>\n",
       "    <tr>\n",
       "      <th>0</th>\n",
       "      <td>2</td>\n",
       "      <td>0</td>\n",
       "      <td>0</td>\n",
       "      <td>274</td>\n",
       "      <td>75</td>\n",
       "    </tr>\n",
       "    <tr>\n",
       "      <th>1</th>\n",
       "      <td>2</td>\n",
       "      <td>0</td>\n",
       "      <td>0</td>\n",
       "      <td>160</td>\n",
       "      <td>75</td>\n",
       "    </tr>\n",
       "    <tr>\n",
       "      <th>2</th>\n",
       "      <td>6</td>\n",
       "      <td>1</td>\n",
       "      <td>1</td>\n",
       "      <td>936</td>\n",
       "      <td>75</td>\n",
       "    </tr>\n",
       "    <tr>\n",
       "      <th>3</th>\n",
       "      <td>2</td>\n",
       "      <td>2</td>\n",
       "      <td>0</td>\n",
       "      <td>719</td>\n",
       "      <td>75</td>\n",
       "    </tr>\n",
       "    <tr>\n",
       "      <th>4</th>\n",
       "      <td>27</td>\n",
       "      <td>19</td>\n",
       "      <td>0</td>\n",
       "      <td>815</td>\n",
       "      <td>75</td>\n",
       "    </tr>\n",
       "  </tbody>\n",
       "</table>\n",
       "</div>"
      ],
      "text/plain": [
       "   nPPview  nATC  nConv  user  item\n",
       "0        2     0      0   274    75\n",
       "1        2     0      0   160    75\n",
       "2        6     1      1   936    75\n",
       "3        2     2      0   719    75\n",
       "4       27    19      0   815    75"
      ]
     },
     "execution_count": 3,
     "metadata": {},
     "output_type": "execute_result"
    }
   ],
   "source": [
    "nUser = len(set(data['fullVisitorId']))\n",
    "nItem = len(set(data['codssfamille']))\n",
    "\n",
    "userPivot = pd.DataFrame({'fullVisitorId':list(set(data['fullVisitorId'])),\n",
    "                         'user':range(nUser)})\n",
    "itemPivot = pd.DataFrame({'codssfamille':list(set(data['codssfamille'])),\n",
    "                         'item':range(nItem)})\n",
    "\n",
    "data = pd.merge(pd.merge(data,userPivot),itemPivot)\n",
    "del data['fullVisitorId']\n",
    "del data['codssfamille']\n",
    "data.head()"
   ]
  },
  {
   "cell_type": "code",
   "execution_count": 4,
   "metadata": {},
   "outputs": [],
   "source": [
    "actions = ['nPPview','nATC','nConv']\n",
    "df = pd.DataFrame(columns=['user','item','action','rating'])\n",
    "\n",
    "for action in actions:\n",
    "    ind = actions.index(action)\n",
    "    tmp = data[['user','item',action]]\n",
    "    tmp = tmp.rename(columns={action:'rating'})\n",
    "    tmp = tmp.loc[tmp['rating']!=0,]\n",
    "    tmp['action'] = ind\n",
    "    df = df.append(tmp)\n",
    "df.head()\n",
    "del data"
   ]
  },
  {
   "cell_type": "markdown",
   "metadata": {},
   "source": [
    "** preprocessing **"
   ]
  },
  {
   "cell_type": "code",
   "execution_count": null,
   "metadata": {},
   "outputs": [],
   "source": [
    "data.loc[data['nPPview']>50] = 50"
   ]
  },
  {
   "cell_type": "code",
   "execution_count": 5,
   "metadata": {},
   "outputs": [],
   "source": [
    "threshold = 0.7\n",
    "df['cv'] = np.random.random(len(df))\n",
    "\n",
    "trainingData = df.loc[df['cv']<threshold,['user','item','action','rating']]\n",
    "testData = df.loc[df['cv']>=threshold,['user','item','action','rating']]"
   ]
  },
  {
   "cell_type": "markdown",
   "metadata": {},
   "source": [
    "## Train HOALS"
   ]
  },
  {
   "cell_type": "markdown",
   "metadata": {},
   "source": [
    "** cross validation parameters **"
   ]
  },
  {
   "cell_type": "code",
   "execution_count": 6,
   "metadata": {},
   "outputs": [],
   "source": [
    "models = ['tucker','parafac']\n",
    "lbdas = [0.01,0.1,1.]\n",
    "implicitPrefs = [True,False]\n",
    "alphas = [0.0,0.5,1.0]\n",
    "rankss = [[10,200,2],[50,50,2]]"
   ]
  },
  {
   "cell_type": "code",
   "execution_count": 16,
   "metadata": {},
   "outputs": [
    {
     "name": "stdout",
     "output_type": "stream",
     "text": [
      "Start user Learning\n",
      "time : 1.5179917812347412\n",
      "Start item Learning\n",
      "time : 47.475234270095825\n",
      "Start action Learning\n",
      "time : 1.4844989776611328\n",
      "longest mode time : 47.475234270095825\n"
     ]
    }
   ],
   "source": [
    "sc.setCheckpointDir(\"checkpoints\")\n",
    "hoals = HOALS(ranks=[10,200,2],model='tucker',lbda=0.8,alpha=0.0,max_iter=10,\n",
    "             dimensions_col=['user','item','action'],rating_col=['rating'],\n",
    "             implicitPrefs=False)\n",
    "hoals.fit(trainingData,True)"
   ]
  },
  {
   "cell_type": "markdown",
   "metadata": {},
   "source": [
    "** Compute rank measure **"
   ]
  },
  {
   "cell_type": "code",
   "execution_count": 17,
   "metadata": {},
   "outputs": [
    {
     "name": "stdout",
     "output_type": "stream",
     "text": [
      "Rank measure of action 0 : 33.66 %\n",
      "Rank measure of action 1 : 37.64 %\n",
      "Rank measure of action 2 : 40.63 %\n"
     ]
    }
   ],
   "source": [
    "indexes = testData[['user','item','action']].values.tolist()\n",
    "r_hat = hoals.predict(indexes)\n",
    "testData['r_hat_hoals'] = r_hat\n",
    "\n",
    "rank_perf_hoals = dict.fromkeys(range(len(actions)))\n",
    "for action in range(len(actions)):\n",
    "    testData_action = testData.loc[testData['action']==action,]\n",
    "    rs = list(testData_action.sort_values(by='r_hat_hoals',ascending=False).groupby('user')['rating'].apply(list))\n",
    "    rank_perf_hoals[action] = np.round(100*rank_measure(rs),2)\n",
    "    print(\"Rank measure of action\",action,\":\",rank_perf_hoals[action],\"%\")"
   ]
  },
  {
   "cell_type": "code",
   "execution_count": 11,
   "metadata": {},
   "outputs": [
    {
     "name": "stdout",
     "output_type": "stream",
     "text": [
      "Rank measure of action 0 : 34.41 %\n",
      "Rank measure of action 1 : 37.9 %\n",
      "Rank measure of action 2 : 40.75 %\n"
     ]
    }
   ],
   "source": []
  },
  {
   "cell_type": "code",
   "execution_count": null,
   "metadata": {},
   "outputs": [],
   "source": []
  },
  {
   "cell_type": "code",
   "execution_count": null,
   "metadata": {},
   "outputs": [],
   "source": []
  },
  {
   "cell_type": "code",
   "execution_count": null,
   "metadata": {},
   "outputs": [],
   "source": []
  },
  {
   "cell_type": "code",
   "execution_count": null,
   "metadata": {},
   "outputs": [],
   "source": []
  }
 ],
 "metadata": {
  "kernelspec": {
   "display_name": "Python 3",
   "language": "python",
   "name": "python3"
  },
  "language_info": {
   "codemirror_mode": {
    "name": "ipython",
    "version": 3
   },
   "file_extension": ".py",
   "mimetype": "text/x-python",
   "name": "python",
   "nbconvert_exporter": "python",
   "pygments_lexer": "ipython3",
   "version": "3.6.4"
  }
 },
 "nbformat": 4,
 "nbformat_minor": 2
}
