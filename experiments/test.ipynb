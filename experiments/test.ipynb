{
 "cells": [
  {
   "cell_type": "markdown",
   "metadata": {},
   "source": [
    "# Unitary test of HOALS and comparison with HOSVD"
   ]
  },
  {
   "cell_type": "code",
   "execution_count": 1,
   "metadata": {},
   "outputs": [],
   "source": [
    "from RecommenderSystem.HOALS import HOALS\n",
    "from RecommenderSystem.metrics import rank_measure\n",
    "from RecommenderSystem.utils import crossval_split\n",
    "from sktensor.dtensor import dtensor\n",
    "from sktensor.tucker import hosvd # baseline\n",
    "import numpy as np\n",
    "import pandas as pd"
   ]
  },
  {
   "cell_type": "code",
   "execution_count": 2,
   "metadata": {},
   "outputs": [],
   "source": [
    "nUser = 10\n",
    "nItem = 8\n",
    "nAction = 3\n",
    "ranks = [3,3,2]\n",
    "\n",
    "np.random.seed(0)\n",
    "\n",
    "U = np.random.random(nUser*ranks[0]).reshape((nUser,ranks[0]))\n",
    "I = np.random.random(nItem*ranks[1]).reshape((nItem,ranks[1]))\n",
    "A = np.random.random(nAction*ranks[2]).reshape((nAction,ranks[2]))\n",
    "W = dtensor(np.random.random(np.prod(ranks)).reshape(tuple(ranks)))\n",
    "T = W.ttm(U,mode=0).ttm(I,mode=1).ttm(A,mode=2)"
   ]
  },
  {
   "cell_type": "code",
   "execution_count": 3,
   "metadata": {},
   "outputs": [
    {
     "name": "stdout",
     "output_type": "stream",
     "text": [
      "0.47708834093387403\n",
      "0.47708834093387403\n"
     ]
    }
   ],
   "source": [
    "u, i, a = (0,0,0)\n",
    "print(W.ttv(U[u,:],modes=0).T.dot(I[i,:]).dot(A[a,:]))\n",
    "print(T[u,i,a])"
   ]
  },
  {
   "cell_type": "code",
   "execution_count": 4,
   "metadata": {},
   "outputs": [],
   "source": [
    "fulldata = pd.DataFrame(columns=['user','item','action','rating'])\n",
    "for u in range(nUser):\n",
    "    for i in range(nItem):\n",
    "        for a in range(nAction):\n",
    "            fulldata.loc[len(fulldata)] = [u,i,a,T[u,i,a]]\n",
    "            \n",
    "fulldata['user'] = list(map(int,fulldata['user']))\n",
    "fulldata['item'] = list(map(int,fulldata['item']))\n",
    "fulldata['action'] = list(map(int,fulldata['action']))\n",
    "\n",
    "trainingData, testData = crossval_split(fulldata,0.8,0.7,'user','item')"
   ]
  },
  {
   "cell_type": "markdown",
   "metadata": {},
   "source": [
    "## Train HOALS"
   ]
  },
  {
   "cell_type": "code",
   "execution_count": 5,
   "metadata": {},
   "outputs": [
    {
     "name": "stdout",
     "output_type": "stream",
     "text": [
      "\t Start user learning\n",
      "\t \t time : 6.9243364334106445\n",
      "\t Start item learning\n",
      "\t \t time : 2.0978829860687256\n",
      "\t Start action learning\n",
      "\t \t time : 2.0889015197753906\n",
      "\t \t longest mode time : 6.9243364334106445\n",
      "RMSE of HOALS= 0.06416471050896164\n"
     ]
    }
   ],
   "source": [
    "sc.setCheckpointDir(\"checkpoints\")\n",
    "hoals = HOALS(ranks,lbda=0.01,alpha=0.0,max_iter=10)\n",
    "hoals.fit(trainingData,True)\n",
    "T_hat = hoals.getFullTensor()\n",
    "rmse_hoals = np.sqrt(((T_hat-T)**2).mean())\n",
    "print('RMSE of HOALS=',rmse_hoals)"
   ]
  },
  {
   "cell_type": "markdown",
   "metadata": {},
   "source": [
    "** Compute rank measure **"
   ]
  },
  {
   "cell_type": "code",
   "execution_count": 6,
   "metadata": {},
   "outputs": [
    {
     "name": "stdout",
     "output_type": "stream",
     "text": [
      "Rank measure of action 0 : 15.5 %\n",
      "Rank measure of action 1 : 15.04 %\n",
      "Rank measure of action 2 : 15.22 %\n"
     ]
    }
   ],
   "source": [
    "indexes = testData[['user','item','action']].values.tolist()\n",
    "r_hat = sc.parallelize(indexes).map(hoals.predict).collect()\n",
    "testData['r_hat_hoals'] = r_hat\n",
    "\n",
    "rank_perf_hoals = dict.fromkeys(range(nAction))\n",
    "for action in range(nAction):\n",
    "    testData_action = testData.loc[testData['action']==action,]\n",
    "    rs = list(testData_action.sort_values(by='r_hat_hoals',ascending=False).groupby('user')['rating'].apply(list))\n",
    "    rank_perf_hoals[action] = np.round(100*rank_measure(rs),2)\n",
    "    print(\"Rank measure of action\",action,\":\",rank_perf_hoals[action],\"%\")"
   ]
  },
  {
   "cell_type": "markdown",
   "metadata": {},
   "source": [
    "## Train HOSVD"
   ]
  },
  {
   "cell_type": "markdown",
   "metadata": {},
   "source": [
    "### on full tensor"
   ]
  },
  {
   "cell_type": "code",
   "execution_count": 7,
   "metadata": {},
   "outputs": [
    {
     "name": "stdout",
     "output_type": "stream",
     "text": [
      "Full tensor - RMSE of HOSVD= 8.313589530222607e-15\n"
     ]
    }
   ],
   "source": [
    "baseline_hosvd_full = hosvd(T,ranks)\n",
    "T_hat_hosvd_full = baseline_hosvd_full[1].ttm(baseline_hosvd_full[0][0],mode=0) \\\n",
    "                .ttm(baseline_hosvd_full[0][1],mode=1) \\\n",
    "                .ttm(baseline_hosvd_full[0][2],mode=2)\n",
    "rmse_hosvd_full = np.sqrt(((T_hat_hosvd_full-T)**2).mean())\n",
    "print('Full tensor - RMSE of HOSVD=',rmse_hosvd_full)"
   ]
  },
  {
   "cell_type": "markdown",
   "metadata": {},
   "source": [
    "** Compute rank measure **"
   ]
  },
  {
   "cell_type": "code",
   "execution_count": 8,
   "metadata": {},
   "outputs": [
    {
     "name": "stdout",
     "output_type": "stream",
     "text": [
      "Rank measure of action 0 : 15.5 %\n",
      "Rank measure of action 1 : 15.04 %\n",
      "Rank measure of action 2 : 15.22 %\n"
     ]
    }
   ],
   "source": [
    "testData['r_hat_hosvd_full'] = 0\n",
    "for ind in testData.index:\n",
    "    coordinates = tuple(list(map(int,testData.loc[ind,['user','item','action']])))\n",
    "    testData.loc[ind,'r_hat_hosvd_full'] = T_hat_hosvd_full[coordinates]\n",
    "    \n",
    "rank_perf_hosvd_full = dict.fromkeys(range(nAction))\n",
    "for action in range(nAction):\n",
    "    testData_action = testData.loc[testData['action']==action,]\n",
    "    rs = list(testData_action.sort_values(by='r_hat_hosvd_full',ascending=False).groupby('user')['rating'].apply(list))\n",
    "    rank_perf_hosvd_full[action] = np.round(100*rank_measure(rs),2)\n",
    "    print(\"Rank measure of action\",action,\":\",rank_perf_hosvd_full[action],\"%\")"
   ]
  },
  {
   "cell_type": "markdown",
   "metadata": {},
   "source": [
    "### on sparse tensor"
   ]
  },
  {
   "cell_type": "code",
   "execution_count": 9,
   "metadata": {},
   "outputs": [
    {
     "name": "stdout",
     "output_type": "stream",
     "text": [
      "Sparse tensor - RMSE of HOSVD= 0.16408116651902568\n"
     ]
    }
   ],
   "source": [
    "baseline_hosvd_sparse = hosvd(dtensor(hoals.tensor.toarray()),ranks)\n",
    "T_hat_hosvd_sparse = baseline_hosvd_sparse[1].ttm(baseline_hosvd_sparse[0][0],mode=0) \\\n",
    "                .ttm(baseline_hosvd_sparse[0][1],mode=1) \\\n",
    "                .ttm(baseline_hosvd_sparse[0][2],mode=2)\n",
    "rmse_hosvd_sparse = np.sqrt(((T_hat_hosvd_sparse-T)**2).mean())\n",
    "print('Sparse tensor - RMSE of HOSVD=',rmse_hosvd_sparse)"
   ]
  },
  {
   "cell_type": "code",
   "execution_count": 10,
   "metadata": {},
   "outputs": [
    {
     "name": "stdout",
     "output_type": "stream",
     "text": [
      "Rank measure of action 0 : 16.03 %\n",
      "Rank measure of action 1 : 16.09 %\n",
      "Rank measure of action 2 : 16.07 %\n"
     ]
    }
   ],
   "source": [
    "testData['r_hat_hosvd_sparse'] = 0\n",
    "for ind in testData.index:\n",
    "    coordinates = tuple(list(map(int,testData.loc[ind,['user','item','action']])))\n",
    "    testData.loc[ind,'hosvd_sparse'] = T_hat_hosvd_sparse[coordinates]\n",
    "    \n",
    "rank_perf_hosvd_sparse = dict.fromkeys(range(nAction))\n",
    "for action in range(nAction):\n",
    "    testData_action = testData.loc[testData['action']==action,]\n",
    "    rs = list(testData_action.sort_values(by='r_hat_hosvd_sparse',ascending=False).groupby('user')['rating'].apply(list))\n",
    "    rank_perf_hosvd_sparse[action] = np.round(100*rank_measure(rs),2)\n",
    "    print(\"Rank measure of action\",action,\":\",rank_perf_hosvd_sparse[action],\"%\")"
   ]
  },
  {
   "cell_type": "markdown",
   "metadata": {},
   "source": [
    "** Compute rank measure **"
   ]
  },
  {
   "cell_type": "markdown",
   "metadata": {},
   "source": [
    "### Print all results in the same cell"
   ]
  },
  {
   "cell_type": "code",
   "execution_count": 11,
   "metadata": {},
   "outputs": [
    {
     "name": "stdout",
     "output_type": "stream",
     "text": [
      "Full tensor - RMSE of HOSVD = 8.313589530222607e-15\n",
      "Sparse tensor - RMSE of HOSVD = 0.16408116651902568\n",
      "RMSE of HOALS = 0.06416471050896164\n"
     ]
    }
   ],
   "source": [
    "print('Full tensor - RMSE of HOSVD =',rmse_hosvd_full)\n",
    "print('Sparse tensor - RMSE of HOSVD =',rmse_hosvd_sparse)\n",
    "print('RMSE of HOALS =',rmse_hoals)"
   ]
  },
  {
   "cell_type": "code",
   "execution_count": 12,
   "metadata": {},
   "outputs": [
    {
     "name": "stdout",
     "output_type": "stream",
     "text": [
      "Full tensor - Rank measure of HOSVD = {0: 15.5, 1: 15.04, 2: 15.22}\n",
      "Sparse tensor - Rank measure of HOSVD = {0: 16.03, 1: 16.09, 2: 16.07}\n",
      "Rank measure of HOALS = {0: 15.5, 1: 15.04, 2: 15.22}\n"
     ]
    }
   ],
   "source": [
    "print('Full tensor - Rank measure of HOSVD =',rank_perf_hosvd_full)\n",
    "print('Sparse tensor - Rank measure of HOSVD =',rank_perf_hosvd_sparse)\n",
    "print('Rank measure of HOALS =',rank_perf_hoals)"
   ]
  }
 ],
 "metadata": {
  "kernelspec": {
   "display_name": "Python 3",
   "language": "python",
   "name": "python3"
  },
  "language_info": {
   "codemirror_mode": {
    "name": "ipython",
    "version": 3
   },
   "file_extension": ".py",
   "mimetype": "text/x-python",
   "name": "python",
   "nbconvert_exporter": "python",
   "pygments_lexer": "ipython3",
   "version": "3.6.4"
  }
 },
 "nbformat": 4,
 "nbformat_minor": 2
}
